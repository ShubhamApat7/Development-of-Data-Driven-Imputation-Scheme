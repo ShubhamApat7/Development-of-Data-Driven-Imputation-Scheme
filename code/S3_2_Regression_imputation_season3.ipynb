{
  "nbformat": 4,
  "nbformat_minor": 0,
  "metadata": {
    "colab": {
      "provenance": []
    },
    "kernelspec": {
      "name": "python3",
      "display_name": "Python 3"
    },
    "language_info": {
      "name": "python"
    }
  },
  "cells": [
    {
      "cell_type": "code",
      "execution_count": 2,
      "metadata": {
        "colab": {
          "base_uri": "https://localhost:8080/"
        },
        "id": "TlUqvL7DLcpf",
        "outputId": "eeefe7cb-107f-41f2-a720-37e5de4f1f8c"
      },
      "outputs": [
        {
          "output_type": "stream",
          "name": "stdout",
          "text": [
            "Imputation successful: No missing values remain.\n"
          ]
        }
      ],
      "source": [
        "#Immporting relevant packages\n",
        "import pandas as pd\n",
        "from sklearn.linear_model import LinearRegression\n",
        "from sklearn.impute import SimpleImputer\n",
        "\n",
        "# Loading the dataset\n",
        "df = pd.read_csv(\"/content/NumreicalValues_Season3 - Sheet1.csv\")\n",
        "\n",
        "# Defining the columns to impute in the dataset\n",
        "columns_to_impute = ['RHR', 'HRV', 'Recovery', 'Sleep.Score', 'Hours.in.Bed', 'Hours.of.Sleep', 'Sleep.Need', 'Sleep.Efficiency....', 'Wake.Periods', 'Sleep.Disturbances', 'Latency..min.', 'Cycles', 'REM.Sleep..hours.', 'Deep.Sleep..hours.', 'Light.Sleep..hours.', 'Awake..hours.', 'Sleep.Debt..hours.', 'Sleep.Consistency', 'Respiratory.Rate', 'Total.Cycle.Sleep.Time..hours.', 'Restorative.Sleep..hours.', 'PPC', 'MPC', 'EB', 'OR', 'MS', 'LA', 'NES', 'OS', 'Body.Weight..kg.', 'Peak.Power.Mean', 'Peak.Power.SD', 'Peak.Power.CoV', 'Peak.Power.BM.Mean', 'Peak.Power.BM.SD', 'Peak.Power.BM.CoV', 'RSI.Mean', 'RSI.SD', 'RSI.CoV', 'Jump.Height.Mean', 'Jump.Height.SD', 'Jump.Height.CoV', 'HR.min..bpm.', 'HR.avg..bpm.', 'HR.max..bpm.', 'HR.min....', 'HR.avg....', 'HR.max....', 'Total.distance..m.', 'Distance...min..m.min.', 'Maximum.speed..km.h.', 'Average.speed..km.h.', 'Sprints', 'Distance.in.Speed.zone.1..m...1.00...5.00.km.h.', 'Distance.in.Speed.zone.2..m...5.01...6.99.km.h.', 'Distance.in.Speed.zone.3..m...7.00...11.00.km.h.', 'Distance.in.Speed.zone.4..m...11.01...14.99.km.h.', 'Distance.in.Speed.zone.5..m...15.00..km.h.', 'Training.load.score', 'Cardio.load', 'Recovery.time..h.', 'Calories..kcal.', 'Number.of.accelerations...50.00....3.00.m.s².', 'Number.of.accelerations...2.99....2.00.m.s².', 'Number.of.accelerations...1.99....1.00.m.s².', 'Number.of.accelerations...0.99....0.50.m.s².', 'Number.of.accelerations..0.50...0.99.m.s².', 'Number.of.accelerations..1.00...1.99.m.s².', 'Number.of.accelerations..2.00...2.99.m.s².', 'Number.of.accelerations..3.00...50.00.m.s².']\n",
        "\n",
        "# Imputing using regression for specified columns\n",
        "for column in columns_to_impute:\n",
        "    missing_data = df[df[column].isnull()]\n",
        "    complete_data = df.dropna(subset=[column])\n",
        "\n",
        "    # Separating features and target\n",
        "    X_complete = complete_data.drop(columns=[column])\n",
        "    y_complete = complete_data[column]\n",
        "    X_missing = missing_data.drop(columns=[column])\n",
        "\n",
        "    # Imputing missing values\n",
        "    imputer = SimpleImputer(strategy='mean')\n",
        "    X_complete_imputed = imputer.fit_transform(X_complete)\n",
        "    X_missing_imputed = imputer.transform(X_missing)\n",
        "\n",
        "    # Fitting the linear regression model\n",
        "    model = LinearRegression()\n",
        "    model.fit(X_complete_imputed, y_complete)\n",
        "\n",
        "    # Predicting missing values\n",
        "    predicted_values = model.predict(X_missing_imputed)\n",
        "    df.loc[df[column].isnull(), column] = predicted_values\n",
        "\n",
        "# Saving the imputed dataset in csv file\n",
        "df.to_csv(\"perfect_regression_imputation_all_columns.csv\", index=False)\n",
        "\n",
        "# Checking if any missing values remain after performing imputation\n",
        "missing_values_after_imputation = df.isnull().sum().sum()\n",
        "\n",
        "if missing_values_after_imputation == 0:\n",
        "    print(\"Imputation successful: No missing values remain.\")\n",
        "else:\n",
        "    print(f\"Imputation failed: {missing_values_after_imputation} missing values remain.\")"
      ]
    }
  ]
}