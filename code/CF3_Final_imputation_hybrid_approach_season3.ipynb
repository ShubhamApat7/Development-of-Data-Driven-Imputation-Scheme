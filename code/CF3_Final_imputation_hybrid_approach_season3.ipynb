{
  "nbformat": 4,
  "nbformat_minor": 0,
  "metadata": {
    "colab": {
      "provenance": []
    },
    "kernelspec": {
      "name": "python3",
      "display_name": "Python 3"
    },
    "language_info": {
      "name": "python"
    }
  },
  "cells": [
    {
      "cell_type": "code",
      "execution_count": 1,
      "metadata": {
        "colab": {
          "base_uri": "https://localhost:8080/"
        },
        "id": "PuKdDGwqu7QP",
        "outputId": "18a6ecd4-e70b-44b4-e462-92a8bed10ac5"
      },
      "outputs": [
        {
          "output_type": "stream",
          "name": "stdout",
          "text": [
            "Updated dataset with missing values imputed and saved to 'F2_final_imputed_original_data_season3.csv'\n"
          ]
        }
      ],
      "source": [
        "#Importing relevant packages\n",
        "import numpy as np\n",
        "import pandas as pd\n",
        "\n",
        "# Loading original data with missing values\n",
        "original_data = pd.read_csv('/content/O3_original_numerical_data_season3.csv')\n",
        "\n",
        "# Converting the loaded data to numeric format\n",
        "original_data = original_data.apply(pd.to_numeric, errors='coerce')\n",
        "\n",
        "# Loading imputed data from files\n",
        "mean_imputed_data = pd.read_csv('/content/S3_3_mean_season3.csv').apply(pd.to_numeric, errors='coerce')\n",
        "regression_imputed_data = pd.read_csv('/content/S3_1_regression_imputed_season3.csv').apply(pd.to_numeric, errors='coerce')\n",
        "knn_imputed_data = pd.read_csv('/content/S3_4_KNN_imputed_season3.csv').apply(pd.to_numeric, errors='coerce')\n",
        "hot_deck_imputed_data = pd.read_csv('/content/S3_5_hot_deck_imputed_data_season3.csv').apply(pd.to_numeric, errors='coerce')\n",
        "xgboost_imputed_data = pd.read_csv('/content/S3_2_XGBoost_season3.csv').apply(pd.to_numeric, errors='coerce')\n",
        "\n",
        "# Computing the average of all imputation techniques for each missing cell\n",
        "average_imputed_data = (\n",
        "    mean_imputed_data.fillna(0) +\n",
        "    regression_imputed_data.fillna(0) +\n",
        "    knn_imputed_data.fillna(0) +\n",
        "    hot_deck_imputed_data.fillna(0) +\n",
        "    xgboost_imputed_data.fillna(0)\n",
        ") / 5\n",
        "\n",
        "# Replacing missing values in the original dataset with the computed averages\n",
        "imputed_original_data = original_data.fillna(average_imputed_data)\n",
        "\n",
        "# Saving the updated dataset to a CSV file\n",
        "imputed_original_data.to_csv('/content/F2_final_imputed_original_data_season3.csv', index=False)\n",
        "\n",
        "print(\"Updated dataset with missing values imputed and saved to 'F2_final_imputed_original_data_season3.csv'\")\n"
      ]
    }
  ]
}