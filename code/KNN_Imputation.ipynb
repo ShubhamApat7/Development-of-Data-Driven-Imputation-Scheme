{
  "nbformat": 4,
  "nbformat_minor": 0,
  "metadata": {
    "colab": {
      "provenance": []
    },
    "kernelspec": {
      "name": "python3",
      "display_name": "Python 3"
    },
    "language_info": {
      "name": "python"
    }
  },
  "cells": [
    {
      "cell_type": "code",
      "execution_count": 6,
      "metadata": {
        "id": "gi11vXO0QTx3"
      },
      "outputs": [],
      "source": [
        "import pandas as pd\n",
        "from sklearn.impute import KNNImputer\n",
        "from sklearn.preprocessing import StandardScaler\n",
        "\n",
        "# Load your dataset\n",
        "# Replace 'your_dataset.csv' with the path to your dataset\n",
        "data = pd.read_csv('/content/Numerical valuesSeason 2 - Sheet1.csv')\n",
        "\n"
      ]
    },
    {
      "cell_type": "code",
      "source": [
        "# Save index\n",
        "index = data.index\n",
        "\n",
        "# Preprocessing\n",
        "# Handle categorical variables\n",
        "# Convert categorical variables into numerical representations using one-hot encoding or label encoding\n",
        "\n",
        "# Standardize numerical variables\n",
        "scaler = StandardScaler()\n",
        "\n",
        "# Identify columns with missing values\n",
        "columns_with_missing_values = data.columns[data.isnull().any()].tolist()\n",
        "\n",
        "# Scale only the missing values\n",
        "data_scaled = data.copy()\n",
        "data_scaled[columns_with_missing_values] = scaler.fit_transform(data[columns_with_missing_values])\n",
        "\n",
        "# Imputation\n",
        "k_neighbors = 5\n",
        "imputer = KNNImputer(n_neighbors=k_neighbors)\n",
        "data_imputed_array = imputer.fit_transform(data_scaled)\n",
        "data_imputed = pd.DataFrame(data_imputed_array, columns=data.columns, index=index)\n",
        "\n",
        "# Optionally, inverse transform scaling for the imputed missing values\n",
        "data_imputed[columns_with_missing_values] = scaler.inverse_transform(data_imputed[columns_with_missing_values])\n",
        "\n",
        "# Save the imputed dataset to a new CSV file\n",
        "data_imputed.to_csv('imputed_dataset.csv', index=False)\n"
      ],
      "metadata": {
        "id": "gNoYJAzJTmfn"
      },
      "execution_count": 8,
      "outputs": []
    },
    {
      "cell_type": "code",
      "source": [
        "import pandas as pd\n",
        "from sklearn.impute import SimpleImputer\n",
        "\n",
        "# Load your dataset\n",
        "# Replace 'your_dataset.csv' with the path to your dataset\n",
        "data = pd.read_csv('/content/CategoricalValues_Season2 - Sheet1.csv')\n",
        "\n",
        "# Save index\n",
        "index = data.index\n",
        "\n",
        "# Preprocessing\n",
        "# Handle numerical variables (standardization and KNN imputation)\n",
        "# For categorical variables, replace missing values with mode (most frequent value)\n",
        "imputer = SimpleImputer(strategy='most_frequent')\n",
        "data_imputed = pd.DataFrame(imputer.fit_transform(data), columns=data.columns, index=index)\n",
        "\n",
        "# Save the imputed dataset to a new CSV file\n",
        "data_imputed.to_csv('imputed_dataset2.csv', index=False)\n"
      ],
      "metadata": {
        "id": "-uVIzth6ZpJT"
      },
      "execution_count": 9,
      "outputs": []
    }
  ]
}