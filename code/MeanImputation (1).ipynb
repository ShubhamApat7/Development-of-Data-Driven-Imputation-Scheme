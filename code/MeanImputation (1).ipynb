{
  "nbformat": 4,
  "nbformat_minor": 0,
  "metadata": {
    "colab": {
      "provenance": []
    },
    "kernelspec": {
      "name": "python3",
      "display_name": "Python 3"
    },
    "language_info": {
      "name": "python"
    }
  },
  "cells": [
    {
      "cell_type": "code",
      "execution_count": null,
      "metadata": {
        "id": "dv_0sN6lGX0j"
      },
      "outputs": [],
      "source": [
        "import pandas as pd"
      ]
    },
    {
      "cell_type": "code",
      "source": [
        "df=pd.read_csv('/content/NumreicalValues_Season3 - Sheet1.csv')"
      ],
      "metadata": {
        "id": "gqpzs1NfGcxA"
      },
      "execution_count": null,
      "outputs": []
    },
    {
      "cell_type": "code",
      "source": [
        "df_mean_Imputed=df.fillna(df.mean())"
      ],
      "metadata": {
        "id": "k0ZaXuCgGtzz"
      },
      "execution_count": null,
      "outputs": []
    },
    {
      "cell_type": "code",
      "source": [
        "df_mean_Imputed.to_csv('MeanSeason3.csv')"
      ],
      "metadata": {
        "id": "fR472PlFGznJ"
      },
      "execution_count": null,
      "outputs": []
    }
  ]
}