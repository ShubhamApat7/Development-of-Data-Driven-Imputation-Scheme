{
  "nbformat": 4,
  "nbformat_minor": 0,
  "metadata": {
    "colab": {
      "provenance": []
    },
    "kernelspec": {
      "name": "python3",
      "display_name": "Python 3"
    },
    "language_info": {
      "name": "python"
    }
  },
  "cells": [
    {
      "cell_type": "code",
      "execution_count": 12,
      "metadata": {
        "id": "UwG5XLdsgUAp"
      },
      "outputs": [],
      "source": [
        "import pandas as pd\n",
        "from xgboost import XGBRegressor\n",
        "import numpy as np\n",
        "\n",
        "# Load your dataset\n",
        "df = pd.read_csv('/content/NumreicalValues_Season3 - Sheet1.csv')\n",
        "\n"
      ]
    },
    {
      "cell_type": "code",
      "source": [
        "missing_columns = df.columns[df.isnull().any()].tolist()\n",
        "\n",
        "# Imputation Loop\n",
        "for col in missing_columns:\n",
        "    # Create training and testing data for this column\n",
        "    X_train = df.drop(columns=[col])\n",
        "    y_train = df[col].copy()\n",
        "\n",
        "    # Drop rows with missing values in both features and target\n",
        "    missing_rows = y_train.isnull()\n",
        "    X_train = X_train[~missing_rows]\n",
        "    y_train = y_train.dropna()\n",
        "\n",
        "\n",
        "    X_train = X_train.fillna(-9999)\n",
        "\n",
        "\n",
        "    if y_train.isnull().any() or not np.isfinite(y_train).all():\n",
        "        print(f\"Skipping column '{col}' due to NaNs, infinite, or too large values in the target labels.\")\n",
        "        continue\n",
        "\n",
        "    # Train XGBoost model\n",
        "    model = XGBRegressor()\n",
        "    model.fit(X_train, y_train)\n",
        "\n",
        "    # Impute missing values\n",
        "    X_missing = df[df[col].isnull()]\n",
        "    if not X_missing.empty:\n",
        "        imputed_values = model.predict(X_missing.drop(columns=[col]))\n",
        "\n",
        "        # Update missing values in the original DataFrame\n",
        "        df.loc[df[col].isnull(), col] = imputed_values\n",
        "\n",
        "\n",
        "df.to_csv('XGBoost_Season3.csv', index=False)"
      ],
      "metadata": {
        "id": "AkSprRRPgXT0"
      },
      "execution_count": 13,
      "outputs": []
    }
  ]
}