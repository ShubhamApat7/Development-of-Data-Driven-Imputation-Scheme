{
  "nbformat": 4,
  "nbformat_minor": 0,
  "metadata": {
    "colab": {
      "provenance": []
    },
    "kernelspec": {
      "name": "python3",
      "display_name": "Python 3"
    },
    "language_info": {
      "name": "python"
    }
  },
  "cells": [
    {
      "cell_type": "code",
      "source": [
        "#Importing relevant packages\n",
        "import numpy as np\n",
        "import pandas as pd\n",
        "\n",
        "# Loading original data with missing values\n",
        "original_data = pd.read_csv('/content/original_data_season2.csv')\n",
        "\n",
        "# Converting the loaded data to numeric format\n",
        "original_data = original_data.apply(pd.to_numeric, errors='coerce')\n",
        "\n",
        "# Loading imputed data from files\n",
        "mean_imputed_data = pd.read_csv('/content/5_global_mean_imputed_season2.csv.csv').apply(pd.to_numeric, errors='coerce')\n",
        "regression_imputed_data = pd.read_csv('/content/2_regression_imputed_season2.csv').apply(pd.to_numeric, errors='coerce')\n",
        "knn_imputed_data = pd.read_csv('/content/1_KNN_imputed_season2.csv.csv').apply(pd.to_numeric, errors='coerce')\n",
        "hot_deck_imputed_data = pd.read_csv('/content/3_hot_deck_imputed_season2.csv.csv').apply(pd.to_numeric, errors='coerce')\n",
        "xgboost_imputed_data = pd.read_csv('/content/4_XGBoost_imputed_season2.csv').apply(pd.to_numeric, errors='coerce')\n",
        "\n",
        "# Computing the average of all imputation techniques for each missing cell\n",
        "average_imputed_data = (\n",
        "    mean_imputed_data.fillna(0) +\n",
        "    regression_imputed_data.fillna(0) +\n",
        "    knn_imputed_data.fillna(0) +\n",
        "    hot_deck_imputed_data.fillna(0) +\n",
        "    xgboost_imputed_data.fillna(0)\n",
        ") / 5\n",
        "\n",
        "# Replacing missing values in the original dataset with the computed averages\n",
        "imputed_original_data = original_data.fillna(average_imputed_data)\n",
        "\n",
        "# Saving the updated dataset to a CSV file\n",
        "imputed_original_data.to_csv('/content/imputed_original_data.csv', index=False)\n",
        "\n",
        "print(\"Updated dataset with missing values imputed and saved to 'imputed_original_data.csv'\")\n"
      ],
      "metadata": {
        "colab": {
          "base_uri": "https://localhost:8080/"
        },
        "id": "ag8-jlzHHuYU",
        "outputId": "7e94baf8-9815-40dd-a068-47c8a443053b"
      },
      "execution_count": 7,
      "outputs": [
        {
          "output_type": "stream",
          "name": "stdout",
          "text": [
            "Updated dataset with missing values imputed and saved to 'imputed_original_data.csv'\n"
          ]
        }
      ]
    }
  ]
}